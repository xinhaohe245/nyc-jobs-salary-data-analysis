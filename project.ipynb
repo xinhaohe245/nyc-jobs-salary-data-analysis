{
 "cells": [
  {
   "cell_type": "code",
   "execution_count": 1,
   "metadata": {},
   "outputs": [],
   "source": [
    "import pandas as pd\n",
    "import matplotlib.pyplot as plt\n",
    "import numpy as np\n",
    "from sklearn.feature_extraction.text import TfidfVectorizer\n",
    "from scipy.sparse.linalg import svds\n",
    "import matplotlib.pyplot as plt\n",
    "from sklearn.preprocessing import normalize\n",
    "\n",
    "df = pd.read_csv('redone_data_analysis5.csv', index_col=0)\n",
    "pd.options.display.max_colwidth = 100"
   ]
  },
  {
   "cell_type": "code",
   "execution_count": 2,
   "metadata": {},
   "outputs": [],
   "source": [
    "# # Encoding school level as factors\n",
    "# df['School Level'] = np.nan\n",
    "# df.loc[df['Minimum Qual Requirements'].str.lower().str.contains('high school', na=False), 'School Level'] = 'High School'\n",
    "# df.loc[df['Minimum Qual Requirements'].str.lower().str.contains('baccalaureate|college', na=False), 'School Level'] = \"Bachelor's\"\n",
    "# df.loc[df['Minimum Qual Requirements'].str.lower().str.contains(\"master's\", na=False), 'School Level'] = \"Master's\"\n",
    "# df.loc[df['Minimum Qual Requirements'].str.lower().str.contains(\"professional engineer|registration as an architect\", na=False), 'School Level'] = \"Engineer/Architect License\"\n",
    "# df.loc[df['Minimum Qual Requirements'].str.lower().str.contains(\"state bar\", na=False), 'School Level'] = \"Bar\"\n",
    "# df.loc[df['Minimum Qual Requirements'].str.lower().str.contains(\"housing manager\", na=False), 'School Level'] = \"Housing Manager\""
   ]
  },
  {
   "cell_type": "code",
   "execution_count": 3,
   "metadata": {},
   "outputs": [],
   "source": [
    "# # Converting all salaries to annual\n",
    "# df.loc[df['Salary.Frequency'] == 'Hourly', 'Salary.Range.From'] = df['Salary.Range.From'] * 2080\n",
    "# df.loc[df['Salary.Frequency'] == 'Hourly', 'Salary.Range.To'] = df['Salary.Range.To'] * 2080"
   ]
  },
  {
   "cell_type": "code",
   "execution_count": 5,
   "metadata": {},
   "outputs": [],
   "source": [
    "lst = list(zip(df['Business.Title'], df['Preferred.Skills']))\n",
    "vectorizer = TfidfVectorizer(stop_words = 'english', max_df = .8, min_df = 10)\n",
    "td_matrix = vectorizer.fit_transform([str(i[1]) for i in lst])"
   ]
  },
  {
   "cell_type": "code",
   "execution_count": 6,
   "metadata": {},
   "outputs": [],
   "source": [
    "td_matrix.shape\n",
    "docs_compressed, s, words_compressed = svds(td_matrix, k=100)\n",
    "words_compressed = words_compressed.T"
   ]
  },
  {
   "cell_type": "code",
   "execution_count": 71,
   "metadata": {},
   "outputs": [],
   "source": [
    "docs_normed = normalize(docs_compressed, axis = 1, norm='l2')"
   ]
  },
  {
   "cell_type": "code",
   "execution_count": 72,
   "metadata": {},
   "outputs": [],
   "source": [
    "columns = df.columns\n",
    "dictionary = {i : col for i, col in enumerate(columns)}\n",
    "new_dataframe = pd.concat([df, pd.DataFrame(docs_normed)], axis=1, ignore_index=True)\n",
    "new_dataframe = new_dataframe.iloc[0:851]\n",
    "new_dataframe.rename(dictionary, axis=1, inplace=True)"
   ]
  },
  {
   "cell_type": "code",
   "execution_count": 76,
   "metadata": {},
   "outputs": [],
   "source": [
    "new_dataframe.drop(['Job.ID', 'Title.Code.No'], axis=1, inplace=True)"
   ]
  },
  {
   "cell_type": "code",
   "execution_count": 77,
   "metadata": {},
   "outputs": [],
   "source": [
    "new_dataframe.to_csv('redone_data_analysis6.csv', index=False)"
   ]
  }
 ],
 "metadata": {
  "kernelspec": {
   "display_name": "Python 3",
   "language": "python",
   "name": "python3"
  },
  "language_info": {
   "codemirror_mode": {
    "name": "ipython",
    "version": 3
   },
   "file_extension": ".py",
   "mimetype": "text/x-python",
   "name": "python",
   "nbconvert_exporter": "python",
   "pygments_lexer": "ipython3",
   "version": "3.8.8"
  }
 },
 "nbformat": 4,
 "nbformat_minor": 2
}
