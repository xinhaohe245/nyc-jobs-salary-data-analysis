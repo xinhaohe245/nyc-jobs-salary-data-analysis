{
 "cells": [
  {
   "cell_type": "code",
   "execution_count": 1,
   "metadata": {},
   "outputs": [
    {
     "name": "stdout",
     "output_type": "stream",
     "text": [
      "Requirement already satisfied: pygam in /Applications/anaconda3/lib/python3.8/site-packages (0.9.0)\n",
      "Requirement already satisfied: numpy<2.0.0,>=1.24.2 in /Applications/anaconda3/lib/python3.8/site-packages (from pygam) (1.24.3)\n",
      "Requirement already satisfied: progressbar2<5.0.0,>=4.2.0 in /Applications/anaconda3/lib/python3.8/site-packages (from pygam) (4.2.0)\n",
      "Requirement already satisfied: scipy<2.0.0,>=1.10.1 in /Applications/anaconda3/lib/python3.8/site-packages (from pygam) (1.10.1)\n",
      "Requirement already satisfied: python-utils>=3.0.0 in /Applications/anaconda3/lib/python3.8/site-packages (from progressbar2<5.0.0,>=4.2.0->pygam) (3.5.2)\n"
     ]
    }
   ],
   "source": [
    "!pip install pygam\n",
    "import pandas as pd\n",
    "import matplotlib.pyplot as plt\n",
    "import numpy as np\n",
    "from sklearn.feature_extraction.text import TfidfVectorizer\n",
    "from scipy.sparse.linalg import svds\n",
    "import matplotlib.pyplot as plt\n",
    "from sklearn.preprocessing import normalize\n",
    "from pygam import LinearGAM, GAM, s\n",
    "from sklearn.model_selection import train_test_split\n",
    "from sklearn.metrics import mean_squared_error\n",
    "\n",
    "df = pd.read_csv('redone_data_analysis6.csv', index_col=0)"
   ]
  },
  {
   "cell_type": "markdown",
   "metadata": {},
   "source": [
    "# Encoding Minimum Qualification as Factors"
   ]
  },
  {
   "cell_type": "code",
   "execution_count": 2,
   "metadata": {},
   "outputs": [],
   "source": [
    "# df['School Level'] = np.nan\n",
    "# df.loc[df['Minimum Qual Requirements'].str.lower().str.contains('high school', na=False), 'School Level'] = 'High School'\n",
    "# df.loc[df['Minimum Qual Requirements'].str.lower().str.contains('baccalaureate|college', na=False), 'School Level'] = \"Bachelor's\"\n",
    "# df.loc[df['Minimum Qual Requirements'].str.lower().str.contains(\"master's\", na=False), 'School Level'] = \"Master's\"\n",
    "# df.loc[df['Minimum Qual Requirements'].str.lower().str.contains(\"professional engineer|registration as an architect\", na=False), 'School Level'] = \"Engineer/Architect License\"\n",
    "# df.loc[df['Minimum Qual Requirements'].str.lower().str.contains(\"state bar\", na=False), 'School Level'] = \"Bar\"\n",
    "# df.loc[df['Minimum Qual Requirements'].str.lower().str.contains(\"housing manager\", na=False), 'School Level'] = \"Housing Manager\""
   ]
  },
  {
   "cell_type": "markdown",
   "metadata": {},
   "source": [
    "# Standardizing Salary Frequencies"
   ]
  },
  {
   "cell_type": "code",
   "execution_count": 3,
   "metadata": {},
   "outputs": [],
   "source": [
    "# # Converting all salaries to annual\n",
    "# df.loc[df['Salary.Frequency'] == 'Hourly', 'Salary.Range.From'] = df['Salary.Range.From'] * 2080\n",
    "# df.loc[df['Salary.Frequency'] == 'Hourly', 'Salary.Range.To'] = df['Salary.Range.To'] * 2080"
   ]
  },
  {
   "cell_type": "markdown",
   "metadata": {},
   "source": [
    "# Vectorizing Preferred Skills Columns"
   ]
  },
  {
   "cell_type": "code",
   "execution_count": 4,
   "metadata": {},
   "outputs": [],
   "source": [
    "lst = list(zip(df['Business.Title'], df['Preferred.Skills']))\n",
    "vectorizer = TfidfVectorizer(stop_words = 'english', max_df = .8, min_df = 10)\n",
    "td_matrix = vectorizer.fit_transform([str(i[1]) for i in lst])"
   ]
  },
  {
   "cell_type": "code",
   "execution_count": 5,
   "metadata": {},
   "outputs": [],
   "source": [
    "docs_compressed, s, words_compressed = svds(td_matrix, k=100)\n",
    "words_compressed = words_compressed.T\n",
    "docs_normed = normalize(docs_compressed)"
   ]
  },
  {
   "cell_type": "code",
   "execution_count": 6,
   "metadata": {},
   "outputs": [],
   "source": [
    "columns = df.columns\n",
    "dictionary = {i : col for i, col in enumerate(columns)}\n",
    "new_dataframe = pd.concat([df, pd.DataFrame(docs_normed)], axis=1, ignore_index=True)\n",
    "new_dataframe = new_dataframe.iloc[0:851]\n",
    "new_dataframe.rename(dictionary, axis=1, inplace=True)"
   ]
  },
  {
   "cell_type": "code",
   "execution_count": 7,
   "metadata": {},
   "outputs": [
    {
     "name": "stderr",
     "output_type": "stream",
     "text": [
      "100% (50 of 50) |########################| Elapsed Time: 0:05:04 Time:  0:05:04\n",
      "<ipython-input-7-e7f19f46cc2a>:11: UserWarning: KNOWN BUG: p-values computed in this summary are likely much smaller than they should be. \n",
      " \n",
      "Please do not make inferences based on these values! \n",
      "\n",
      "Collaborate on a solution, and stay up to date at: \n",
      "github.com/dswah/pyGAM/issues/163 \n",
      "\n",
      "  gam.summary()\n"
     ]
    },
    {
     "name": "stdout",
     "output_type": "stream",
     "text": [
      "LinearGAM                                                                                                 \n",
      "=============================================== ==========================================================\n",
      "Distribution:                        NormalDist Effective DoF:                                    196.8473\n",
      "Link Function:                     IdentityLink Log Likelihood:                                  -547.7437\n",
      "Number of Samples:                          595 AIC:                                              1491.182\n",
      "                                                AICc:                                            1689.7994\n",
      "                                                GCV:                                                0.5159\n",
      "                                                Scale:                                              0.2222\n",
      "                                                Pseudo R-Squared:                                   0.8513\n",
      "==========================================================================================================\n",
      "Feature Function                  Lambda               Rank         EDoF         P > x        Sig. Code   \n",
      "================================= ==================== ============ ============ ============ ============\n",
      "s(0)                              [1.5618]             10                        5.21e-07     ***         \n",
      "s(1)                              [1.321]              10                        1.18e-06     ***         \n",
      "s(2)                              [2.1855]             10                        8.00e-11     ***         \n",
      "s(3)                              [1.3605]             10                        2.11e-01                 \n",
      "s(4)                              [2.5515]             10                        3.14e-01                 \n",
      "s(5)                              [1.8839]             10                        8.17e-12     ***         \n",
      "s(6)                              [2.2192]             10                        1.13e-07     ***         \n",
      "s(7)                              [1.7515]             10                        1.69e-11     ***         \n",
      "s(8)                              [1.869]              10                        4.88e-04     ***         \n",
      "s(9)                              [1.507]              10                        3.93e-06     ***         \n",
      "s(10)                             [1.0984]             10                        9.51e-08     ***         \n",
      "s(11)                             [1.385]              10                        1.46e-03     **          \n",
      "s(12)                             [2.4555]             10                        1.10e-03     **          \n",
      "s(13)                             [1.2225]             10                        5.17e-02     .           \n",
      "s(14)                             [1.2722]             10                        1.94e-03     **          \n",
      "s(15)                             [1.1797]             10                        1.39e-04     ***         \n",
      "s(16)                             [1.5394]             10                        6.14e-06     ***         \n",
      "s(17)                             [2.406]              10                        1.03e-02     *           \n",
      "s(18)                             [1.3357]             10                        1.77e-03     **          \n",
      "s(19)                             [1.9412]             10                        1.12e-04     ***         \n",
      "s(20)                             [1.2563]             10                        9.96e-03     **          \n",
      "s(21)                             [1.8162]             10                        2.05e-09     ***         \n",
      "s(22)                             [1.7906]             10                        2.13e-06     ***         \n",
      "s(23)                             [1.0472]             10                        4.55e-05     ***         \n",
      "s(24)                             [1.6622]             10                        1.98e-06     ***         \n",
      "s(25)                             [1.7427]             10                        1.15e-01                 \n",
      "s(26)                             [1.5402]             10                        7.66e-03     **          \n",
      "s(27)                             [1.3442]             10                        6.58e-05     ***         \n",
      "s(28)                             [2.561]              10                        1.94e-06     ***         \n",
      "s(29)                             [2.4007]             10                        7.85e-03     **          \n",
      "s(30)                             [1.4449]             10                        7.88e-08     ***         \n",
      "s(31)                             [2.1671]             10                        1.63e-04     ***         \n",
      "s(32)                             [2.3036]             10                        2.79e-05     ***         \n",
      "s(33)                             [1.5572]             10                        1.61e-05     ***         \n",
      "s(34)                             [1.3022]             10                        3.26e-09     ***         \n",
      "s(35)                             [1.9024]             10                        3.50e-02     *           \n",
      "s(36)                             [2.3294]             10                        5.18e-02     .           \n",
      "s(37)                             [1.4081]             10                        7.16e-04     ***         \n",
      "s(38)                             [1.0872]             10                        7.74e-02     .           \n",
      "s(39)                             [1.985]              10                        2.19e-05     ***         \n",
      "s(40)                             [2.0637]             10                        2.29e-02     *           \n",
      "s(41)                             [2.112]              10                        1.02e-06     ***         \n",
      "s(42)                             [1.3761]             10                        7.86e-01                 \n",
      "s(43)                             [2.6277]             10                        4.83e-02     *           \n",
      "s(44)                             [1.1906]             10                        3.42e-04     ***         \n",
      "s(45)                             [2.0818]             10                        5.03e-06     ***         \n",
      "s(46)                             [1.0241]             10                        7.05e-05     ***         \n",
      "s(47)                             [2.1351]             10                        1.89e-08     ***         \n",
      "s(48)                             [2.656]              10                        2.84e-07     ***         \n",
      "s(49)                             [1.7231]             10                        5.55e-10     ***         \n",
      "s(50)                             [1.6671]             10                        4.66e-01                 \n",
      "s(51)                             [1.7553]             10                        5.74e-04     ***         \n",
      "s(52)                             [1.1174]             10                        6.14e-04     ***         \n",
      "s(53)                             [1.3092]             10                        1.65e-01                 \n",
      "s(54)                             [1.5934]             10                        2.17e-03     **          \n",
      "s(55)                             [1.0499]             10                        5.90e-04     ***         \n",
      "s(56)                             [2.5122]             10                        1.01e-10     ***         \n",
      "s(57)                             [2.1636]             10                        6.50e-06     ***         \n",
      "s(58)                             [2.1081]             10                        3.19e-01                 \n",
      "s(59)                             [1.8095]             10                        5.97e-03     **          \n",
      "s(60)                             [1.9493]             10                        5.17e-13     ***         \n",
      "s(61)                             [1.9898]             10                        9.67e-04     ***         \n",
      "s(62)                             [2.3024]             10                        2.94e-09     ***         \n",
      "s(63)                             [1.2818]             10                        1.25e-07     ***         \n",
      "s(64)                             [1.5324]             10                        1.11e-16     ***         \n",
      "s(65)                             [2.4698]             10                        1.05e-03     **          \n",
      "s(66)                             [2.5256]             10                        1.92e-03     **          \n",
      "s(67)                             [1.3345]             10                        9.20e-06     ***         \n",
      "s(68)                             [1.9729]             10                        1.68e-04     ***         \n",
      "s(69)                             [1.3985]             10                        1.11e-16     ***         \n",
      "s(70)                             [2.0976]             10                        4.27e-10     ***         \n",
      "s(71)                             [1.6011]             10                        2.91e-04     ***         \n",
      "s(72)                             [2.5397]             10                        6.56e-03     **          \n",
      "s(73)                             [2.4851]             10                        2.65e-03     **          \n",
      "s(74)                             [2.0952]             10                        1.67e-15     ***         \n",
      "s(75)                             [1.0669]             10                        7.97e-14     ***         \n",
      "s(76)                             [1.9615]             10                        4.35e-01                 \n",
      "s(77)                             [2.509]              10                        1.90e-02     *           \n",
      "s(78)                             [1.2039]             10                        1.76e-09     ***         \n",
      "s(79)                             [2.3394]             10                        1.15e-06     ***         \n",
      "s(80)                             [2.5165]             10                        2.33e-15     ***         \n",
      "s(81)                             [1.3243]             10                        5.40e-05     ***         \n",
      "s(82)                             [2.0232]             10                        1.47e-08     ***         \n",
      "s(83)                             [1.4938]             10                        6.80e-09     ***         \n",
      "s(84)                             [1.2998]             10                        1.11e-16     ***         \n",
      "s(85)                             [1.8998]             10                        1.11e-16     ***         \n",
      "s(86)                             [1.7259]             10                        1.07e-07     ***         \n",
      "s(87)                             [1.4515]             10                        3.25e-03     **          \n",
      "s(88)                             [1.0164]             10                        4.89e-08     ***         \n",
      "s(89)                             [1.536]              10                        8.65e-08     ***         \n",
      "s(90)                             [2.081]              10                        1.36e-02     *           \n",
      "s(91)                             [1.275]              10                        1.11e-16     ***         \n",
      "s(92)                             [2.0483]             10                        7.09e-11     ***         \n",
      "s(93)                             [1.0256]             10                        1.11e-16     ***         \n",
      "s(94)                             [1.2674]             10                        4.27e-05     ***         \n",
      "s(95)                             [1.7998]             10                        8.63e-05     ***         \n",
      "s(96)                             [1.266]              10                        1.37e-04     ***         \n",
      "s(97)                             [1.9042]             10                        1.11e-16     ***         \n",
      "s(98)                             [1.3453]             10                        1.11e-16     ***         \n",
      "s(99)                             [2.4334]             10                        3.93e-02     *           \n",
      "s(100)                            [2.6641]             10                        1.11e-16     ***         \n",
      "s(101)                            [1.1229]             10                        1.11e-16     ***         \n",
      "s(102)                            [1.0919]             10                        1.11e-16     ***         \n",
      "s(103)                            [1.1308]             10                        1.11e-16     ***         \n",
      "s(104)                            [1.679]              10                        1.11e-16     ***         \n",
      "s(105)                            [2.3191]             10                        1.11e-16     ***         \n",
      "s(106)                            [1.2622]             10                        1.11e-16     ***         \n",
      "s(107)                            [1.7079]             10                        1.11e-16     ***         \n",
      "s(108)                            [1.9674]             10                        1.11e-16     ***         \n",
      "s(109)                            [1.2904]             10                        1.11e-16     ***         \n",
      "s(110)                            [1.1876]             10                        1.11e-16     ***         \n",
      "s(111)                            [2.1368]             10                        1.11e-16     ***         \n",
      "s(112)                            [1.8055]             10                        1.11e-16     ***         \n",
      "s(113)                            [2.6402]             10                        1.11e-16     ***         \n",
      "s(114)                            [1.4746]             10                        1.11e-16     ***         \n",
      "s(115)                            [1.2609]             10                        1.11e-16     ***         \n",
      "s(116)                            [1.0483]             10                        1.11e-16     ***         \n",
      "s(117)                            [1.3019]             10                        1.11e-16     ***         \n",
      "s(118)                            [1.3388]             10                        1.11e-16     ***         \n",
      "s(119)                            [1.5607]             10                        1.11e-16     ***         \n",
      "s(120)                            [2.6536]             10                        1.11e-16     ***         \n",
      "s(121)                            [2.4235]             10                        1.11e-16     ***         \n",
      "s(122)                            [1.0651]             10                        1.11e-16     ***         \n",
      "s(123)                            [2.6408]             10                        1.11e-16     ***         \n",
      "s(124)                            [1.8402]             10                        1.11e-16     ***         \n",
      "s(125)                            [1.4895]             10                        1.11e-16     ***         \n",
      "s(126)                            [1.7379]             10                        1.11e-16     ***         \n",
      "s(127)                            [1.7497]             10                        1.11e-16     ***         \n",
      "s(128)                            [1.076]              10                        1.11e-16     ***         \n",
      "s(129)                            [2.329]              10                        1.11e-16     ***         \n",
      "s(130)                            [2.1462]             10                        1.11e-16     ***         \n",
      "s(131)                            [1.289]              10                        1.11e-16     ***         \n",
      "s(132)                            [1.8284]             10                        1.11e-16     ***         \n",
      "s(133)                            [2.6427]             10                        1.11e-16     ***         \n",
      "s(134)                            [2.2012]             10                        1.11e-16     ***         \n",
      "s(135)                            [1.7882]             10                        1.11e-16     ***         \n",
      "s(136)                            [1.8832]             10                        1.11e-16     ***         \n",
      "s(137)                            [1.3959]             10                        1.11e-16     ***         \n",
      "intercept                                              1                         3.96e-01                 \n",
      "==========================================================================================================\n",
      "Significance codes:  0 '***' 0.001 '**' 0.01 '*' 0.05 '.' 0.1 ' ' 1\n",
      "\n",
      "WARNING: Fitting splines and a linear function to a feature introduces a model identifiability problem\n",
      "         which can cause p-values to appear significant when they are not.\n",
      "\n",
      "WARNING: p-values calculated in this manner behave correctly for un-penalized models or models with\n",
      "         known smoothing parameters, but when smoothing parameters have been estimated, the p-values\n",
      "         are typically lower than they should be, meaning that the tests reject the null too readily.\n"
     ]
    },
    {
     "name": "stdout",
     "output_type": "stream",
     "text": [
      "0.2685032116455514\n"
     ]
    }
   ],
   "source": [
    "# Fitting Generalized Additive Model on Data\n",
    "dummies = pd.get_dummies(df[['level_factor', 'School.Level', 'Agency']])\n",
    "vectors = list(np.arange(18, 118).astype(str)) + ['Posting.Type']\n",
    "X_factors = pd.concat([df[vectors], dummies], axis=1)\n",
    "X = X_factors.values\n",
    "y = (df['Salary.Range.From'] - df['Salary.Range.From'].mean())/df['Salary.Range.From'].std()\n",
    "X_train, X_test, y_train, y_test = train_test_split(X, y, test_size=0.3, random_state=0)\n",
    "lams = np.random.rand(50, 138)\n",
    "lams = np.exp(lams)\n",
    "gam = LinearGAM(n_splines=10).gridsearch(X_train, y_train, lam=lams)\n",
    "gam.summary()\n",
    "print(mean_squared_error(y_test, gam.predict(X_test)))"
   ]
  },
  {
   "cell_type": "code",
   "execution_count": 8,
   "metadata": {},
   "outputs": [
    {
     "data": {
      "image/png": "[encoded data removed]",
      "text/plain": [
       "<Figure size 432x288 with 1 Axes>"
      ]
     },
     "metadata": {
      "needs_background": "light"
     },
     "output_type": "display_data"
    }
   ],
   "source": [
    "pred = gam.predict(X_test)\n",
    "plt.scatter(y_test, pred, facecolors='none', edgecolors='black')\n",
    "def abline(slope, intercept):\n",
    "    axes = plt.gca()\n",
    "    x_vals = np.array(axes.get_xlim())\n",
    "    y_vals = intercept + slope * x_vals\n",
    "    plt.plot(x_vals, y_vals, '-', c='black')\n",
    "plt.xlabel('Actual y')\n",
    "plt.ylabel('Predicted y')\n",
    "abline(1, 0)"
   ]
  }
 ],
 "metadata": {
  "kernelspec": {
   "display_name": "Python 3",
   "language": "python",
   "name": "python3"
  },
  "language_info": {
   "codemirror_mode": {
    "name": "ipython",
    "version": 3
   },
   "file_extension": ".py",
   "mimetype": "text/x-python",
   "name": "python",
   "nbconvert_exporter": "python",
   "pygments_lexer": "ipython3",
   "version": "3.8.8"
  }
 },
 "nbformat": 4,
 "nbformat_minor": 2
}
