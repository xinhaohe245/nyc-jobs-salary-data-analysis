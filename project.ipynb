{
 "cells": [
  {
   "cell_type": "code",
   "execution_count": 1,
   "metadata": {},
   "outputs": [
    {
     "name": "stdout",
     "output_type": "stream",
     "text": [
      "Requirement already satisfied: pygam in /Applications/anaconda3/lib/python3.8/site-packages (0.9.0)\n",
      "Requirement already satisfied: numpy<2.0.0,>=1.24.2 in /Applications/anaconda3/lib/python3.8/site-packages (from pygam) (1.24.3)\n",
      "Requirement already satisfied: scipy<2.0.0,>=1.10.1 in /Applications/anaconda3/lib/python3.8/site-packages (from pygam) (1.10.1)\n",
      "Requirement already satisfied: progressbar2<5.0.0,>=4.2.0 in /Applications/anaconda3/lib/python3.8/site-packages (from pygam) (4.2.0)\n",
      "Requirement already satisfied: python-utils>=3.0.0 in /Applications/anaconda3/lib/python3.8/site-packages (from progressbar2<5.0.0,>=4.2.0->pygam) (3.5.2)\n"
     ]
    }
   ],
   "source": [
    "!pip install pygam\n",
    "import pandas as pd\n",
    "import matplotlib.pyplot as plt\n",
    "import numpy as np\n",
    "from sklearn.feature_extraction.text import TfidfVectorizer\n",
    "from scipy.sparse.linalg import svds\n",
    "import matplotlib.pyplot as plt\n",
    "from sklearn.preprocessing import normalize\n",
    "from pygam import LinearGAM, GAM, s\n",
    "from sklearn.model_selection import train_test_split\n",
    "from sklearn.metrics import mean_squared_error\n",
    "\n",
    "df = pd.read_csv('redone_data_analysis6.csv', index_col=0)\n",
    "pd.options.display.max_colwidth = 100"
   ]
  },
  {
   "cell_type": "code",
   "execution_count": 2,
   "metadata": {},
   "outputs": [],
   "source": [
    "# # Encoding school level as factors\n",
    "# df['School Level'] = np.nan\n",
    "# df.loc[df['Minimum Qual Requirements'].str.lower().str.contains('high school', na=False), 'School Level'] = 'High School'\n",
    "# df.loc[df['Minimum Qual Requirements'].str.lower().str.contains('baccalaureate|college', na=False), 'School Level'] = \"Bachelor's\"\n",
    "# df.loc[df['Minimum Qual Requirements'].str.lower().str.contains(\"master's\", na=False), 'School Level'] = \"Master's\"\n",
    "# df.loc[df['Minimum Qual Requirements'].str.lower().str.contains(\"professional engineer|registration as an architect\", na=False), 'School Level'] = \"Engineer/Architect License\"\n",
    "# df.loc[df['Minimum Qual Requirements'].str.lower().str.contains(\"state bar\", na=False), 'School Level'] = \"Bar\"\n",
    "# df.loc[df['Minimum Qual Requirements'].str.lower().str.contains(\"housing manager\", na=False), 'School Level'] = \"Housing Manager\""
   ]
  },
  {
   "cell_type": "code",
   "execution_count": 3,
   "metadata": {},
   "outputs": [],
   "source": [
    "# # Converting all salaries to annual\n",
    "# df.loc[df['Salary.Frequency'] == 'Hourly', 'Salary.Range.From'] = df['Salary.Range.From'] * 2080\n",
    "# df.loc[df['Salary.Frequency'] == 'Hourly', 'Salary.Range.To'] = df['Salary.Range.To'] * 2080"
   ]
  },
  {
   "cell_type": "code",
   "execution_count": 5,
   "metadata": {},
   "outputs": [],
   "source": [
    "lst = list(zip(df['Business.Title'], df['Preferred.Skills']))\n",
    "vectorizer = TfidfVectorizer(stop_words = 'english', max_df = .8, min_df = 10)\n",
    "td_matrix = vectorizer.fit_transform([str(i[1]) for i in lst])"
   ]
  },
  {
   "cell_type": "code",
   "execution_count": 6,
   "metadata": {},
   "outputs": [],
   "source": [
    "td_matrix.shape\n",
    "docs_compressed, s, words_compressed = svds(td_matrix, k=100)\n",
    "words_compressed = words_compressed.T"
   ]
  },
  {
   "cell_type": "code",
   "execution_count": 71,
   "metadata": {},
   "outputs": [],
   "source": [
    "docs_normed = normalize(docs_compressed, axis = 1, norm='l2')"
   ]
  },
  {
   "cell_type": "code",
   "execution_count": 72,
   "metadata": {},
   "outputs": [],
   "source": [
    "columns = df.columns\n",
    "dictionary = {i : col for i, col in enumerate(columns)}\n",
    "new_dataframe = pd.concat([df, pd.DataFrame(docs_normed)], axis=1, ignore_index=True)\n",
    "new_dataframe = new_dataframe.iloc[0:851]\n",
    "new_dataframe.rename(dictionary, axis=1, inplace=True)"
   ]
  },
  {
   "cell_type": "code",
   "execution_count": 76,
   "metadata": {},
   "outputs": [],
   "source": [
    "new_dataframe.drop(['Job.ID', 'Title.Code.No'], axis=1, inplace=True)"
   ]
  },
  {
   "cell_type": "code",
   "execution_count": 2,
   "metadata": {},
   "outputs": [
    {
     "name": "stderr",
     "output_type": "stream",
     "text": [
      "100% (50 of 50) |########################| Elapsed Time: 0:03:28 Time:  0:03:28\n"
     ]
    },
    {
     "name": "stdout",
     "output_type": "stream",
     "text": [
      "LinearGAM                                                                                                 \n",
      "=============================================== ==========================================================\n",
      "Distribution:                        NormalDist Effective DoF:                                     199.317\n",
      "Link Function:                     IdentityLink Log Likelihood:                                  -544.4651\n",
      "Number of Samples:                          595 AIC:                                             1489.5642\n",
      "                                                AICc:                                            1694.4357\n",
      "                                                GCV:                                                  0.52\n",
      "                                                Scale:                                              0.2205\n",
      "                                                Pseudo R-Squared:                                   0.8533\n",
      "==========================================================================================================\n",
      "Feature Function                  Lambda               Rank         EDoF         P > x        Sig. Code   \n",
      "================================= ==================== ============ ============ ============ ============\n",
      "s(0)                              [2.0087]             10                        9.94e-05     ***         \n",
      "s(1)                              [1.4141]             10                        1.14e-07     ***         \n",
      "s(2)                              [2.3752]             10                        2.58e-08     ***         \n",
      "s(3)                              [1.0671]             10                        1.05e-02     *           \n",
      "s(4)                              [1.048]              10                        4.10e-02     *           \n",
      "s(5)                              [1.1706]             10                        2.14e-12     ***         \n",
      "s(6)                              [1.2449]             10                        3.16e-06     ***         \n",
      "s(7)                              [2.4663]             10                        3.79e-11     ***         \n",
      "s(8)                              [1.1665]             10                        1.77e-06     ***         \n",
      "s(9)                              [2.709]              10                        4.58e-06     ***         \n",
      "s(10)                             [1.2902]             10                        3.57e-06     ***         \n",
      "s(11)                             [1.3781]             10                        3.71e-07     ***         \n",
      "s(12)                             [1.5555]             10                        1.33e-03     **          \n",
      "s(13)                             [1.5054]             10                        2.73e-02     *           \n",
      "s(14)                             [1.9181]             10                        4.55e-03     **          \n",
      "s(15)                             [2.2595]             10                        1.49e-03     **          \n",
      "s(16)                             [2.0334]             10                        9.15e-08     ***         \n",
      "s(17)                             [2.1349]             10                        9.86e-02     .           \n",
      "s(18)                             [1.8234]             10                        5.65e-02     .           \n",
      "s(19)                             [2.2132]             10                        1.70e-03     **          \n",
      "s(20)                             [2.0671]             10                        4.47e-04     ***         \n",
      "s(21)                             [1.2711]             10                        1.91e-11     ***         \n",
      "s(22)                             [1.3985]             10                        1.34e-07     ***         \n",
      "s(23)                             [1.2231]             10                        1.18e-06     ***         \n",
      "s(24)                             [1.3324]             10                        3.40e-03     **          \n",
      "s(25)                             [1.12]               10                        2.53e-02     *           \n",
      "s(26)                             [2.0032]             10                        9.04e-04     ***         \n",
      "s(27)                             [1.508]              10                        5.44e-04     ***         \n",
      "s(28)                             [1.5614]             10                        1.02e-06     ***         \n",
      "s(29)                             [1.2562]             10                        9.13e-03     **          \n",
      "s(30)                             [1.0413]             10                        2.74e-06     ***         \n",
      "s(31)                             [2.6599]             10                        1.19e-03     **          \n",
      "s(32)                             [1.5728]             10                        1.47e-07     ***         \n",
      "s(33)                             [1.7346]             10                        1.10e-06     ***         \n",
      "s(34)                             [1.328]              10                        1.84e-08     ***         \n",
      "s(35)                             [2.1878]             10                        3.31e-03     **          \n",
      "s(36)                             [2.3157]             10                        1.07e-01                 \n",
      "s(37)                             [2.0757]             10                        1.31e-04     ***         \n",
      "s(38)                             [2.5309]             10                        5.57e-02     .           \n",
      "s(39)                             [1.7468]             10                        4.69e-05     ***         \n",
      "s(40)                             [2.2128]             10                        4.93e-02     *           \n",
      "s(41)                             [1.5203]             10                        1.93e-06     ***         \n",
      "s(42)                             [1.41]               10                        1.87e-01                 \n",
      "s(43)                             [1.6379]             10                        2.76e-04     ***         \n",
      "s(44)                             [1.2946]             10                        8.95e-05     ***         \n",
      "s(45)                             [1.9361]             10                        1.97e-06     ***         \n",
      "s(46)                             [1.4628]             10                        3.34e-07     ***         \n",
      "s(47)                             [1.1787]             10                        5.18e-02     .           \n",
      "s(48)                             [2.5994]             10                        9.38e-06     ***         \n",
      "s(49)                             [1.6599]             10                        9.91e-09     ***         \n",
      "s(50)                             [1.8533]             10                        2.94e-01                 \n",
      "s(51)                             [2.7031]             10                        7.63e-03     **          \n",
      "s(52)                             [1.5389]             10                        5.46e-04     ***         \n",
      "s(53)                             [1.7578]             10                        8.28e-04     ***         \n",
      "s(54)                             [1.7902]             10                        3.50e-02     *           \n",
      "s(55)                             [2.4915]             10                        1.66e-04     ***         \n",
      "s(56)                             [2.0647]             10                        3.95e-10     ***         \n",
      "s(57)                             [1.6525]             10                        4.47e-07     ***         \n",
      "s(58)                             [1.6322]             10                        7.10e-01                 \n",
      "s(59)                             [2.5201]             10                        7.55e-05     ***         \n",
      "s(60)                             [1.2787]             10                        2.99e-13     ***         \n",
      "s(61)                             [1.5946]             10                        2.90e-03     **          \n",
      "s(62)                             [1.2361]             10                        7.50e-09     ***         \n",
      "s(63)                             [1.9743]             10                        1.90e-06     ***         \n",
      "s(64)                             [2.223]              10                        1.11e-16     ***         \n",
      "s(65)                             [2.4126]             10                        5.04e-04     ***         \n",
      "s(66)                             [2.1295]             10                        2.26e-04     ***         \n",
      "s(67)                             [2.3086]             10                        1.11e-05     ***         \n",
      "s(68)                             [1.825]              10                        1.96e-04     ***         \n",
      "s(69)                             [1.2453]             10                        1.11e-16     ***         \n",
      "s(70)                             [1.135]              10                        9.07e-07     ***         \n",
      "s(71)                             [2.3689]             10                        1.19e-03     **          \n",
      "s(72)                             [1.0077]             10                        3.74e-02     *           \n",
      "s(73)                             [1.1015]             10                        1.41e-04     ***         \n",
      "s(74)                             [1.0688]             10                        1.44e-13     ***         \n",
      "s(75)                             [2.0464]             10                        9.99e-16     ***         \n",
      "s(76)                             [2.4355]             10                        1.73e-01                 \n",
      "s(77)                             [1.2519]             10                        1.79e-02     *           \n",
      "s(78)                             [1.37]               10                        1.48e-08     ***         \n",
      "s(79)                             [2.6069]             10                        2.19e-06     ***         \n",
      "s(80)                             [1.0117]             10                        1.86e-12     ***         \n",
      "s(81)                             [1.1573]             10                        1.62e-06     ***         \n",
      "s(82)                             [2.2602]             10                        6.11e-08     ***         \n",
      "s(83)                             [1.1125]             10                        1.33e-10     ***         \n",
      "s(84)                             [1.0689]             10                        1.11e-16     ***         \n",
      "s(85)                             [1.0949]             10                        1.11e-16     ***         \n",
      "s(86)                             [1.5222]             10                        1.20e-06     ***         \n",
      "s(87)                             [2.1183]             10                        1.97e-01                 \n",
      "s(88)                             [1.5139]             10                        3.30e-10     ***         \n",
      "s(89)                             [2.5964]             10                        3.21e-06     ***         \n",
      "s(90)                             [1.2903]             10                        2.16e-04     ***         \n",
      "s(91)                             [1.463]              10                        1.11e-16     ***         \n",
      "s(92)                             [1.7998]             10                        3.49e-13     ***         \n",
      "s(93)                             [1.5916]             10                        1.11e-16     ***         \n",
      "s(94)                             [1.9945]             10                        6.96e-06     ***         \n",
      "s(95)                             [1.0617]             10                        1.44e-05     ***         \n",
      "s(96)                             [1.6249]             10                        1.17e-04     ***         \n",
      "s(97)                             [1.6466]             10                        1.11e-16     ***         \n",
      "s(98)                             [1.7712]             10                        1.11e-16     ***         \n",
      "s(99)                             [1.3318]             10                        4.85e-03     **          \n",
      "s(100)                            [1.0264]             10                        1.11e-16     ***         \n",
      "s(101)                            [1.3818]             10                        1.11e-16     ***         \n",
      "s(102)                            [1.0494]             10                        1.11e-16     ***         \n",
      "s(103)                            [1.0245]             10                        1.11e-16     ***         \n",
      "s(104)                            [1.4851]             10                        1.11e-16     ***         \n",
      "s(105)                            [1.5662]             10                        1.11e-16     ***         \n",
      "s(106)                            [1.5905]             10                        1.11e-16     ***         \n",
      "s(107)                            [1.9856]             10                        1.11e-16     ***         \n",
      "s(108)                            [1.8186]             10                        1.11e-16     ***         \n",
      "s(109)                            [1.414]              10                        1.11e-16     ***         \n",
      "s(110)                            [2.4026]             10                        1.11e-16     ***         \n",
      "s(111)                            [1.5693]             10                        1.11e-16     ***         \n",
      "s(112)                            [1.2947]             10                        1.11e-16     ***         \n",
      "s(113)                            [1.0894]             10                        1.11e-16     ***         \n",
      "s(114)                            [1.1728]             10                        1.11e-16     ***         \n",
      "s(115)                            [1.3229]             10                        1.11e-16     ***         \n",
      "s(116)                            [1.6427]             10                        1.11e-16     ***         \n",
      "s(117)                            [2.3495]             10                        1.11e-16     ***         \n",
      "s(118)                            [2.4625]             10                        1.11e-16     ***         \n",
      "s(119)                            [2.4662]             10                        1.11e-16     ***         \n",
      "s(120)                            [1.8758]             10                        1.11e-16     ***         \n",
      "s(121)                            [1.2711]             10                        1.11e-16     ***         \n",
      "s(122)                            [2.4171]             10                        1.11e-16     ***         \n",
      "s(123)                            [1.3185]             10                        1.11e-16     ***         \n",
      "s(124)                            [1.1591]             10                        1.11e-16     ***         \n",
      "s(125)                            [1.2356]             10                        1.11e-16     ***         \n",
      "s(126)                            [1.6446]             10                        1.11e-16     ***         \n",
      "s(127)                            [2.3446]             10                        1.11e-16     ***         \n",
      "s(128)                            [1.826]              10                        1.11e-16     ***         \n",
      "s(129)                            [2.4048]             10                        1.11e-16     ***         \n",
      "s(130)                            [1.3078]             10                        1.11e-16     ***         \n",
      "s(131)                            [2.4654]             10                        1.11e-16     ***         \n",
      "s(132)                            [1.5785]             10                        1.11e-16     ***         \n",
      "s(133)                            [1.2289]             10                        1.11e-16     ***         \n",
      "s(134)                            [1.0581]             10                        1.11e-16     ***         \n",
      "s(135)                            [1.6815]             10                        1.11e-16     ***         \n",
      "s(136)                            [1.0659]             10                        1.11e-16     ***         \n",
      "s(137)                            [1.2479]             10                        1.11e-16     ***         \n",
      "intercept                                              1                         9.95e-02     .           \n",
      "==========================================================================================================\n",
      "Significance codes:  0 '***' 0.001 '**' 0.01 '*' 0.05 '.' 0.1 ' ' 1\n",
      "\n",
      "WARNING: Fitting splines and a linear function to a feature introduces a model identifiability problem\n",
      "         which can cause p-values to appear significant when they are not.\n",
      "\n",
      "WARNING: p-values calculated in this manner behave correctly for un-penalized models or models with\n",
      "         known smoothing parameters, but when smoothing parameters have been estimated, the p-values\n",
      "         are typically lower than they should be, meaning that the tests reject the null too readily.\n",
      "0.26725582534268766\n"
     ]
    },
    {
     "name": "stderr",
     "output_type": "stream",
     "text": [
      "<ipython-input-2-e7f19f46cc2a>:11: UserWarning: KNOWN BUG: p-values computed in this summary are likely much smaller than they should be. \n",
      " \n",
      "Please do not make inferences based on these values! \n",
      "\n",
      "Collaborate on a solution, and stay up to date at: \n",
      "github.com/dswah/pyGAM/issues/163 \n",
      "\n",
      "  gam.summary()\n"
     ]
    }
   ],
   "source": [
    "# Fitting Generalized Additive Model on data\n",
    "dummies = pd.get_dummies(df[['level_factor', 'School.Level', 'Agency']])\n",
    "vectors = list(np.arange(18, 118).astype(str)) + ['Posting.Type']\n",
    "X_factors = pd.concat([df[vectors], dummies], axis=1)\n",
    "X = X_factors.values\n",
    "y = (df['Salary.Range.From'] - df['Salary.Range.From'].mean())/df['Salary.Range.From'].std()\n",
    "X_train, X_test, y_train, y_test = train_test_split(X, y, test_size=0.3, random_state=0)\n",
    "lams = np.random.rand(50, 138)\n",
    "lams = np.exp(lams)\n",
    "gam = LinearGAM(n_splines=10).gridsearch(X_train, y_train, lam=lams)\n",
    "gam.summary()\n",
    "print(mean_squared_error(y_test, gam.predict(X_test)))"
   ]
  },
  {
   "cell_type": "code",
   "execution_count": 62,
   "metadata": {},
   "outputs": [
    {
     "data": {
      "image/png": "[encoded data removed]",
      "text/plain": [
       "<Figure size 432x288 with 1 Axes>"
      ]
     },
     "metadata": {
      "needs_background": "light"
     },
     "output_type": "display_data"
    }
   ],
   "source": [
    "pred = gam.predict(X_test)\n",
    "plt.scatter(y_test, pred, facecolors='none', edgecolors='black')\n",
    "def abline(slope, intercept):\n",
    "    axes = plt.gca()\n",
    "    x_vals = np.array(axes.get_xlim())\n",
    "    y_vals = intercept + slope * x_vals\n",
    "    plt.plot(x_vals, y_vals, '-', c='black')\n",
    "plt.xlabel('Actual y')\n",
    "plt.ylabel('Predicted y')\n",
    "abline(1, 0)"
   ]
  },
  {
   "cell_type": "code",
   "execution_count": 64,
   "metadata": {},
   "outputs": [
    {
     "data": {
      "text/plain": [
       "0.9960680321008601"
      ]
     },
     "execution_count": 64,
     "metadata": {},
     "output_type": "execute_result"
    }
   ],
   "source": [
    "# Benchmark MSE\n",
    "mean_squared_error(y_test, np.full(y_test.shape, y_test.mean()))"
   ]
  }
 ],
 "metadata": {
  "kernelspec": {
   "display_name": "Python 3",
   "language": "python",
   "name": "python3"
  },
  "language_info": {
   "codemirror_mode": {
    "name": "ipython",
    "version": 3
   },
   "file_extension": ".py",
   "mimetype": "text/x-python",
   "name": "python",
   "nbconvert_exporter": "python",
   "pygments_lexer": "ipython3",
   "version": "3.8.8"
  }
 },
 "nbformat": 4,
 "nbformat_minor": 2
}
