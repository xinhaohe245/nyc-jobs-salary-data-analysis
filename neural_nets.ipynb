{
 "cells": [
  {
   "cell_type": "code",
   "execution_count": 3,
   "id": "1704acd3-e5ae-43ae-a753-054faaf03b47",
   "metadata": {},
   "outputs": [
    {
     "name": "stdout",
     "output_type": "stream",
     "text": [
      "Collecting torch\n",
      "  Downloading torch-2.0.0-cp39-none-macosx_10_9_x86_64.whl (139.8 MB)\n",
      "\u001b[K     |████████████████████████████████| 139.8 MB 3.2 kB/s eta 0:00:011    |████████                        | 35.3 MB 2.1 MB/s eta 0:00:51     |█████████████                   | 57.1 MB 118 kB/s eta 0:11:37�█▊  | 129.7 MB 1.5 MB/s eta 0:00:07     |███████████████████████████████▊| 138.6 MB 6.7 MB/s eta 0:00:01\n",
      "\u001b[?25hRequirement already satisfied: sympy in /opt/anaconda3/lib/python3.9/site-packages (from torch) (1.9)\n",
      "Requirement already satisfied: filelock in /opt/anaconda3/lib/python3.9/site-packages (from torch) (3.3.1)\n",
      "Requirement already satisfied: jinja2 in /opt/anaconda3/lib/python3.9/site-packages (from torch) (2.11.3)\n",
      "Requirement already satisfied: networkx in /opt/anaconda3/lib/python3.9/site-packages (from torch) (2.6.3)\n",
      "Requirement already satisfied: typing-extensions in /opt/anaconda3/lib/python3.9/site-packages (from torch) (3.10.0.2)\n",
      "Requirement already satisfied: MarkupSafe>=0.23 in /opt/anaconda3/lib/python3.9/site-packages (from jinja2->torch) (1.1.1)\n",
      "Requirement already satisfied: mpmath>=0.19 in /opt/anaconda3/lib/python3.9/site-packages (from sympy->torch) (1.2.1)\n",
      "Installing collected packages: torch\n",
      "Successfully installed torch-2.0.0\n"
     ]
    }
   ],
   "source": [
    "!pip install torch"
   ]
  },
  {
   "cell_type": "code",
   "execution_count": null,
   "id": "2a98db31-b1d0-4947-971e-490d4bfe8ba7",
   "metadata": {},
   "outputs": [],
   "source": [
    "import numpy as np\n",
    "import torch\n",
    "import torch.nn as nn\n",
    "import torch.optim as optim\n",
    "import gym\n",
    "import matplotlib.pyplot as plt\n",
    "\n",
    "from torch.utils.data import Dataset, DataLoader\n"
   ]
  },
  {
   "cell_type": "code",
   "execution_count": null,
   "id": "14ed58a2-fc93-464c-bb9e-0f8336fba30f",
   "metadata": {},
   "outputs": [],
   "source": [
    "df = pd.read_csv('redone_data_analysis6.csv')\n",
    "\n",
    "# set seed\n",
    "np.random.seed(100)\n",
    "torch.manual_seed(100)"
   ]
  },
  {
   "cell_type": "code",
   "execution_count": null,
   "id": "a0825d68-19ba-4ee1-b513-2aa46631d02a",
   "metadata": {},
   "outputs": [],
   "source": [
    "class LinearRegression(nn.Module):\n",
    "  def __init__(self, input_dim=1, output_dim=1, hidden_dim=128):\n",
    "    super().__init__()\n",
    "    self.input_layer = nn.Linear(input_dim, output_dim)\n",
    "    self.relu = nn.ReLU()\n",
    "    self.hidden_layer = nn.Linear(hidden_dim, hidden_dim)\n",
    "    self.output_layer = nn.Linear(hidden_dim, output_dim)\n",
    "\n",
    "  def forward(self, x):\n",
    "    y_pred = self.input_layer(x)\n",
    "    y_pred = self.relu(y_pred)\n",
    "    y_pred = self.hidden_layer(y_pred)\n",
    "    y_pred = self.relu(y_pred)\n",
    "    y_pred = self.output_layer(y_pred)\n",
    "    return y_pred"
   ]
  }
 ],
 "metadata": {
  "kernelspec": {
   "display_name": "Python 3 (ipykernel)",
   "language": "python",
   "name": "python3"
  },
  "language_info": {
   "codemirror_mode": {
    "name": "ipython",
    "version": 3
   },
   "file_extension": ".py",
   "mimetype": "text/x-python",
   "name": "python",
   "nbconvert_exporter": "python",
   "pygments_lexer": "ipython3",
   "version": "3.9.7"
  }
 },
 "nbformat": 4,
 "nbformat_minor": 5
}
